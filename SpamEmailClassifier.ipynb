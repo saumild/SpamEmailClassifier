{
  "nbformat": 4,
  "nbformat_minor": 0,
  "metadata": {
    "colab": {
      "name": "SpamEmailClassifier.ipynb",
      "provenance": [],
      "collapsed_sections": []
    },
    "kernelspec": {
      "name": "python3",
      "display_name": "Python 3"
    }
  },
  "cells": [
    {
      "cell_type": "markdown",
      "metadata": {
        "id": "SAGGLKxgnNxg"
      },
      "source": [
        "**Spam Email Classifier**\r\n",
        "\r\n",
        "Task :\r\n",
        "Build a classification model which will be able to distinguish between spam/not spam. You should\r\n",
        "compare the performance of few classification algorithms by your choice and choose the best\r\n",
        "performing one. You should perform k-fold cross-validation."
      ]
    },
    {
      "cell_type": "code",
      "metadata": {
        "colab": {
          "base_uri": "https://localhost:8080/"
        },
        "id": "5Y4StkPgoXIC",
        "outputId": "39ff8912-43af-4225-fd50-190069418d6d"
      },
      "source": [
        "#All the necessary imports used throughout the file.\r\n",
        "!pip install PyDrive\r\n",
        "from pydrive.auth import GoogleAuth\r\n",
        "from pydrive.drive import GoogleDrive\r\n",
        "from google.colab import auth\r\n",
        "from oauth2client.client import GoogleCredentials\r\n",
        "import pandas as pd\r\n",
        "import matplotlib.pyplot as plt\r\n",
        "from sklearn import model_selection\r\n",
        "from sklearn.linear_model import LogisticRegression\r\n",
        "from sklearn.ensemble import RandomForestClassifier\r\n",
        "from sklearn.neighbors import KNeighborsClassifier\r\n",
        "from sklearn.naive_bayes import MultinomialNB\r\n",
        "from sklearn.neural_network import MLPClassifier\r\n",
        "from sklearn.svm import SVC\r\n",
        "from sklearn.metrics import roc_auc_score\r\n",
        "from sklearn.metrics import confusion_matrix\r\n",
        "from sklearn.metrics import accuracy_score"
      ],
      "execution_count": null,
      "outputs": [
        {
          "output_type": "stream",
          "text": [
            "Requirement already satisfied: PyDrive in /usr/local/lib/python3.7/dist-packages (1.3.1)\n",
            "Requirement already satisfied: PyYAML>=3.0 in /usr/local/lib/python3.7/dist-packages (from PyDrive) (3.13)\n",
            "Requirement already satisfied: oauth2client>=4.0.0 in /usr/local/lib/python3.7/dist-packages (from PyDrive) (4.1.3)\n",
            "Requirement already satisfied: google-api-python-client>=1.2 in /usr/local/lib/python3.7/dist-packages (from PyDrive) (1.7.12)\n",
            "Requirement already satisfied: pyasn1-modules>=0.0.5 in /usr/local/lib/python3.7/dist-packages (from oauth2client>=4.0.0->PyDrive) (0.2.8)\n",
            "Requirement already satisfied: rsa>=3.1.4 in /usr/local/lib/python3.7/dist-packages (from oauth2client>=4.0.0->PyDrive) (4.7.1)\n",
            "Requirement already satisfied: pyasn1>=0.1.7 in /usr/local/lib/python3.7/dist-packages (from oauth2client>=4.0.0->PyDrive) (0.4.8)\n",
            "Requirement already satisfied: httplib2>=0.9.1 in /usr/local/lib/python3.7/dist-packages (from oauth2client>=4.0.0->PyDrive) (0.17.4)\n",
            "Requirement already satisfied: six>=1.6.1 in /usr/local/lib/python3.7/dist-packages (from oauth2client>=4.0.0->PyDrive) (1.15.0)\n",
            "Requirement already satisfied: uritemplate<4dev,>=3.0.0 in /usr/local/lib/python3.7/dist-packages (from google-api-python-client>=1.2->PyDrive) (3.0.1)\n",
            "Requirement already satisfied: google-auth>=1.4.1 in /usr/local/lib/python3.7/dist-packages (from google-api-python-client>=1.2->PyDrive) (1.27.0)\n",
            "Requirement already satisfied: google-auth-httplib2>=0.0.3 in /usr/local/lib/python3.7/dist-packages (from google-api-python-client>=1.2->PyDrive) (0.0.4)\n",
            "Requirement already satisfied: setuptools>=40.3.0 in /usr/local/lib/python3.7/dist-packages (from google-auth>=1.4.1->google-api-python-client>=1.2->PyDrive) (53.0.0)\n",
            "Requirement already satisfied: cachetools<5.0,>=2.0.0 in /usr/local/lib/python3.7/dist-packages (from google-auth>=1.4.1->google-api-python-client>=1.2->PyDrive) (4.2.1)\n"
          ],
          "name": "stdout"
        }
      ]
    },
    {
      "cell_type": "code",
      "metadata": {
        "id": "qt30APyCdqtD"
      },
      "source": [
        "#Authentication required for Google colab files. Note that we are reading data files(datasets) from the drive and hence there is a GoogleDrive depencdency.\r\n",
        "auth.authenticate_user()\r\n",
        "gauth = GoogleAuth()\r\n",
        "gauth.credentials = GoogleCredentials.get_application_default()\r\n",
        "drive = GoogleDrive(gauth)"
      ],
      "execution_count": null,
      "outputs": []
    },
    {
      "cell_type": "markdown",
      "metadata": {
        "id": "NT7NxQg-ra_j"
      },
      "source": [
        "**DataSet Details:**\r\n",
        "The last column of 'spambase.data' denotes whether the e-mail was considered spam (1) or not (0), i.e. unsolicited commercial e-mail. Most of the attributes indicate whether a particular word or character was frequently occuring in the e-mail. The run-length attributes (55-57) measure the length of sequences of consecutive capital letters. For the statistical measures of each attribute, see the end of this file. Here are the definitions of the attributes:\r\n",
        "\r\n",
        "48 continuous real [0,100] attributes of type word_freq_WORD\r\n",
        "= percentage of words in the e-mail that match WORD, i.e. 100 * (number of times the WORD appears in the e-mail) / total number of words in e-mail. A \"word\" in this case is any string of alphanumeric characters bounded by non-alphanumeric characters or end-of-string.\r\n",
        "\r\n",
        "6 continuous real [0,100] attributes of type char_freq_CHAR]\r\n",
        "= percentage of characters in the e-mail that match CHAR, i.e. 100 * (number of CHAR occurences) / total characters in e-mail\r\n",
        "\r\n",
        "1 continuous real [1,...] attribute of type capital_run_length_average\r\n",
        "= average length of uninterrupted sequences of capital letters\r\n",
        "\r\n",
        "1 continuous integer [1,...] attribute of type capital_run_length_longest\r\n",
        "= length of longest uninterrupted sequence of capital letters\r\n",
        "\r\n",
        "1 continuous integer [1,...] attribute of type capital_run_length_total\r\n",
        "= sum of length of uninterrupted sequences of capital letters\r\n",
        "= total number of capital letters in the e-mail\r\n",
        "\r\n",
        "1 nominal {0,1} class attribute of type spam\r\n",
        "= denotes whether the e-mail was considered spam (1) or not (0), i.e. unsolicited commercial e-mail."
      ]
    },
    {
      "cell_type": "code",
      "metadata": {
        "id": "2Lcq6YHXdv5y",
        "colab": {
          "base_uri": "https://localhost:8080/"
        },
        "outputId": "5b5714e5-5c98-4894-c44a-83b381771a03"
      },
      "source": [
        "#Code to download the dataset and convert it into dataframe.\r\n",
        "downloaded = drive.CreateFile({'id':\"12IhRv4WkpMyCYicnsJVeKxuVk0co6E5s\"})   # replace the id with id of file you want to access\r\n",
        "downloaded.GetContentFile('spambase.data')\r\n",
        "\r\n",
        "downloadedc = drive.CreateFile({'id':\"1g-rZgD7Bg_Hzh3sMZaqLf1AQIcvhXhIp\"})   # replace the id with id of file you want to access\r\n",
        "downloadedc.GetContentFile('spambase.names')\r\n",
        "\r\n",
        "f = open('spambase.names','r')\r\n",
        "count = 0\r\n",
        "columns = []\r\n",
        "while(True):\r\n",
        "  line = f.readline()\r\n",
        "  if(line):\r\n",
        "    count += 1\r\n",
        "    if(count>=34):\r\n",
        "      columns.append(line.split(\":\")[0]) \r\n",
        "  else:\r\n",
        "    break\r\n",
        "columns.append('spam')\r\n",
        "#print(columns) \r\n",
        "data = pd.read_csv('spambase.data')\r\n",
        "df = pd.DataFrame(data)\r\n",
        "df.columns = columns\r\n",
        "print(df)"
      ],
      "execution_count": null,
      "outputs": [
        {
          "output_type": "stream",
          "text": [
            "      word_freq_make  word_freq_address  ...  capital_run_length_total  spam\n",
            "0               0.21               0.28  ...                      1028     1\n",
            "1               0.06               0.00  ...                      2259     1\n",
            "2               0.00               0.00  ...                       191     1\n",
            "3               0.00               0.00  ...                       191     1\n",
            "4               0.00               0.00  ...                        54     1\n",
            "...              ...                ...  ...                       ...   ...\n",
            "4595            0.31               0.00  ...                        88     0\n",
            "4596            0.00               0.00  ...                        14     0\n",
            "4597            0.30               0.00  ...                       118     0\n",
            "4598            0.96               0.00  ...                        78     0\n",
            "4599            0.00               0.00  ...                        40     0\n",
            "\n",
            "[4600 rows x 58 columns]\n"
          ],
          "name": "stdout"
        }
      ]
    },
    {
      "cell_type": "markdown",
      "metadata": {
        "id": "kwpqSldSrkFk"
      },
      "source": [
        "**Classifiers detail : ** Note: Few parameters have been fine tuned for better performance results.\r\n",
        "1. LogisticRegression - We will use lbfgs solver with 2000 iterations\r\n",
        "2. KNeighborsClassifier - we are using Euclidean metrics with 4 neighbours to classify the given predict data point.\r\n",
        "3. SVC - we are using rbf kernal for this classification\r\n",
        "4. MultinomialNB - alpha value has been fine tuned to 1 for getting better resutls and fit_prior is made true.\r\n",
        "5. RandomForestClassifier - Using 50 estimators with maxdepth of decision trees set to 50\r\n",
        "6. MLPClassifier - Neural Network approach for solving the problem. Fine tuned a parameters for better results."
      ]
    },
    {
      "cell_type": "code",
      "metadata": {
        "id": "FQkZ8LZdd1Ro",
        "colab": {
          "base_uri": "https://localhost:8080/",
          "height": 736
        },
        "outputId": "d53e171c-ebc6-464c-e8be-fd8f701fb6e4"
      },
      "source": [
        "X = df.drop(['spam'],axis=1).values\r\n",
        "y = df['spam'].values\r\n",
        "\r\n",
        "classifiers = [\r\n",
        "               LogisticRegression(solver = \"lbfgs\",max_iter = 2000),\r\n",
        "               KNeighborsClassifier(n_neighbors = 4, metric = 'euclidean', p = 2),\r\n",
        "               SVC(kernel = 'rbf',gamma='auto'),\r\n",
        "               MultinomialNB(alpha=1.0,fit_prior=True),\r\n",
        "               RandomForestClassifier(n_estimators=50,max_depth=50),\r\n",
        "               MLPClassifier(solver='adam',activation='relu', alpha=1e-8,hidden_layer_sizes=(12, 5, 5),learning_rate = 'constant', learning_rate_init=0.0001, max_iter=2000)\r\n",
        "            ]\r\n",
        "names = [\"LogisticRegression\",\"KNeighborsClassifier\",\"SVC\",\"MultinomialNB\",\"RandomForestClassifier\",\"MLPClassifier\"]\r\n",
        "results = []\r\n",
        "kfold = 10\r\n",
        "seed = 7\r\n",
        "best_auc = -1\r\n",
        "for i in range(0,len(classifiers)):\r\n",
        "  classifier = classifiers[i]\r\n",
        "  total_auc = 0\r\n",
        "  kfold_result = []\r\n",
        "  kf = model_selection.KFold(n_splits=kfold, shuffle= True,random_state=seed)\r\n",
        "  for train_index, test_index in kf.split(X):\r\n",
        "    X_train, X_test = X[train_index], X[test_index] \r\n",
        "    y_train, y_test = y[train_index], y[test_index]\r\n",
        "\r\n",
        "    classifier.fit(X_train,y_train)\r\n",
        "    predict_y = classifier.predict(X_test)\r\n",
        "    auc = roc_auc_score(y_test,predict_y)\r\n",
        "    kfold_result.append(auc)\r\n",
        "    total_auc += auc\r\n",
        "  mean_auc_kfolds = total_auc/kfold\r\n",
        "  results.append(kfold_result)\r\n",
        "  if best_auc<mean_auc_kfolds:\r\n",
        "    best_auc = mean_auc_kfolds\r\n",
        "    bestalgo = names[i]\r\n",
        "    index = i\r\n",
        "print(results)\r\n",
        "print(names)\r\n",
        "# boxplot algorithm comparison\r\n",
        "fig = plt.figure(figsize=(20,10))\r\n",
        "fig.suptitle('Algorithm Comparison')\r\n",
        "ax = fig.add_subplot(111)\r\n",
        "plt.boxplot(results)\r\n",
        "ax.set_xticklabels(names)\r\n",
        "plt.show()\r\n",
        "\r\n",
        "print(bestalgo,best_auc)"
      ],
      "execution_count": null,
      "outputs": [
        {
          "output_type": "stream",
          "text": [
            "[[0.9235710332832635, 0.9299154083326744, 0.9136538461538461, 0.9358006773101113, 0.9127120026092629, 0.9058788291917126, 0.9264267818744946, 0.9190291183552884, 0.9172356957852602, 0.93540991382718], [0.7974938730334414, 0.7683216064511028, 0.8115384615384615, 0.7746976294146105, 0.7632093933463796, 0.7682138356984983, 0.7717642185003255, 0.7825026811550212, 0.7867514323836432, 0.7820578701873665], [0.8662740137560282, 0.8118230690173137, 0.8428846153846155, 0.8604257377842284, 0.8217547292889759, 0.8294499184069736, 0.8230455110374623, 0.8215362512394018, 0.8410839023624519, 0.8411929796821883], [0.7704166337259862, 0.7952407304925291, 0.8063461538461538, 0.7403483309143687, 0.7706294846705806, 0.7951085497097767, 0.7686472943915094, 0.7888362775450738, 0.7728200298249744, 0.7736579966795795], [0.9571902917226658, 0.9397580836429756, 0.9615384615384616, 0.946589259796807, 0.9403946510110893, 0.9446716655305614, 0.951845495255568, 0.9457597280398228, 0.9521819323444, 0.949798403035813], [0.9344612222310064, 0.9254684164756107, 0.9286538461538462, 0.946734397677794, 0.9067596216568818, 0.9354692115428312, 0.9255982324278471, 0.7467775551913232, 0.9403696727101484, 0.9318127915250216]]\n",
            "['LogisticRegression', 'KNeighborsClassifier', 'SVC', 'MultinomialNB', 'RandomForestClassifier', 'MLPClassifier']\n"
          ],
          "name": "stdout"
        },
        {
          "output_type": "display_data",
          "data": {
            "image/png": "[encoded data removed]",
            "text/plain": [
              "<Figure size 1440x720 with 1 Axes>"
            ]
          },
          "metadata": {
            "tags": [],
            "needs_background": "light"
          }
        },
        {
          "output_type": "stream",
          "text": [
            "RandomForestClassifier 0.9489727971918163\n"
          ],
          "name": "stdout"
        }
      ]
    },
    {
      "cell_type": "markdown",
      "metadata": {
        "id": "O6qUFHGex_xj"
      },
      "source": [
        "**Inference from comparision** \r\n",
        "We could infere that RandomForestClassifier works the best for given set of inputs. But if we look closely, LogisticRegression, MLP and RandomForestClassifier all the 3 are performing pretty well.If we can more fine tune the paramters or increase the dataset size, we may end up getting more better results in any of the 3 algorithms. In MLP neural network based classifier we can see there are few outliers which can be retrained and we can get more better results. For KNN, SVC and multinomial, we can infere that this classifiers dont work well with contiguous data. The boxplot shows some skew in the distribution of data for this classifiers. Since RandomForestClassifier gave the best results, lets get confusion matrix and print the required table for the same."
      ]
    },
    {
      "cell_type": "markdown",
      "metadata": {
        "id": "kuKyfFA4sLyp"
      },
      "source": [
        "**Confusion matrix and details with KFold cross validation for the best performing model**\r\n",
        "\r\n",
        "KFold Cross Validation ensures that we wont overfit the model.\r\n",
        "\r\n",
        "1.  False positive rate - Fraction of non-spam testing examples that are misclassified as spam\r\n",
        "2.  False negative rate - Fraction of spam testing examples that are misclassified as non-spam\r\n",
        "3.  Overall error rate - Fraction of overall examples that are misclassified.\r\n"
      ]
    },
    {
      "cell_type": "code",
      "metadata": {
        "colab": {
          "base_uri": "https://localhost:8080/",
          "height": 377
        },
        "id": "j3ilz2oQHs_-",
        "outputId": "80606820-748a-43f2-c927-d36db22a6259"
      },
      "source": [
        "total_false_positive = 0\r\n",
        "total_false_negative = 0\r\n",
        "total_error = 0 \r\n",
        "average_false_positive = 0\r\n",
        "average_false_negative = 0 \r\n",
        "avg_error = 0\r\n",
        "fp = []\r\n",
        "fn = []\r\n",
        "overall_error_rate = []\r\n",
        "\r\n",
        "classifier = classifiers[index]\r\n",
        "for train_index, test_index in kf.split(X):\r\n",
        "  X_train, X_test = X[train_index], X[test_index] \r\n",
        "  y_train, y_test = y[train_index], y[test_index]\r\n",
        "\r\n",
        "  classifier.fit(X_train,y_train)\r\n",
        "  predict_y = classifier.predict(X_test)\r\n",
        "  matrix = confusion_matrix(y_test,predict_y)\r\n",
        "  false_positive_rate = matrix[0][1]/(matrix[0][1] + matrix[0][0])\r\n",
        "  false_negative_rate = matrix[1][0]/(matrix[1][0] + matrix[1][1])\r\n",
        "  fp.append(false_positive_rate)\r\n",
        "  fn.append(false_negative_rate)\r\n",
        "  overall_error_rate.append(1 - accuracy_score(y_test,predict_y))\r\n",
        "  total_false_negative += false_negative_rate\r\n",
        "  total_false_positive += false_positive_rate\r\n",
        "  total_error += 1 - accuracy_score(y_test,predict_y)    \r\n",
        "\r\n",
        "average_false_positive = total_false_positive/kfold\r\n",
        "average_false_negative = total_false_negative/kfold\r\n",
        "avg_error = total_error/kfold\r\n",
        "\r\n",
        "\r\n",
        "Table = pd.DataFrame(list(zip(fp,fn,overall_error_rate)),columns = ['False Positive Rate','False Negative Rate','Overall Error Rate'])\r\n",
        "Table.loc[kfold] = [average_false_positive,average_false_negative,avg_error]\r\n",
        "display(Table)"
      ],
      "execution_count": null,
      "outputs": [
        {
          "output_type": "display_data",
          "data": {
            "text/html": [
              "<div>\n",
              "<style scoped>\n",
              "    .dataframe tbody tr th:only-of-type {\n",
              "        vertical-align: middle;\n",
              "    }\n",
              "\n",
              "    .dataframe tbody tr th {\n",
              "        vertical-align: top;\n",
              "    }\n",
              "\n",
              "    .dataframe thead th {\n",
              "        text-align: right;\n",
              "    }\n",
              "</style>\n",
              "<table border=\"1\" class=\"dataframe\">\n",
              "  <thead>\n",
              "    <tr style=\"text-align: right;\">\n",
              "      <th></th>\n",
              "      <th>False Positive Rate</th>\n",
              "      <th>False Negative Rate</th>\n",
              "      <th>Overall Error Rate</th>\n",
              "    </tr>\n",
              "  </thead>\n",
              "  <tbody>\n",
              "    <tr>\n",
              "      <th>0</th>\n",
              "      <td>0.017986</td>\n",
              "      <td>0.071429</td>\n",
              "      <td>0.039130</td>\n",
              "    </tr>\n",
              "    <tr>\n",
              "      <th>1</th>\n",
              "      <td>0.028777</td>\n",
              "      <td>0.087912</td>\n",
              "      <td>0.052174</td>\n",
              "    </tr>\n",
              "    <tr>\n",
              "      <th>2</th>\n",
              "      <td>0.026923</td>\n",
              "      <td>0.055000</td>\n",
              "      <td>0.039130</td>\n",
              "    </tr>\n",
              "    <tr>\n",
              "      <th>3</th>\n",
              "      <td>0.052830</td>\n",
              "      <td>0.046154</td>\n",
              "      <td>0.050000</td>\n",
              "    </tr>\n",
              "    <tr>\n",
              "      <th>4</th>\n",
              "      <td>0.013699</td>\n",
              "      <td>0.119048</td>\n",
              "      <td>0.052174</td>\n",
              "    </tr>\n",
              "    <tr>\n",
              "      <th>5</th>\n",
              "      <td>0.040404</td>\n",
              "      <td>0.067485</td>\n",
              "      <td>0.050000</td>\n",
              "    </tr>\n",
              "    <tr>\n",
              "      <th>6</th>\n",
              "      <td>0.018051</td>\n",
              "      <td>0.060109</td>\n",
              "      <td>0.034783</td>\n",
              "    </tr>\n",
              "    <tr>\n",
              "      <th>7</th>\n",
              "      <td>0.027682</td>\n",
              "      <td>0.081871</td>\n",
              "      <td>0.047826</td>\n",
              "    </tr>\n",
              "    <tr>\n",
              "      <th>8</th>\n",
              "      <td>0.032847</td>\n",
              "      <td>0.059140</td>\n",
              "      <td>0.043478</td>\n",
              "    </tr>\n",
              "    <tr>\n",
              "      <th>9</th>\n",
              "      <td>0.017986</td>\n",
              "      <td>0.082418</td>\n",
              "      <td>0.043478</td>\n",
              "    </tr>\n",
              "    <tr>\n",
              "      <th>10</th>\n",
              "      <td>0.027718</td>\n",
              "      <td>0.073056</td>\n",
              "      <td>0.045217</td>\n",
              "    </tr>\n",
              "  </tbody>\n",
              "</table>\n",
              "</div>"
            ],
            "text/plain": [
              "    False Positive Rate  False Negative Rate  Overall Error Rate\n",
              "0              0.017986             0.071429            0.039130\n",
              "1              0.028777             0.087912            0.052174\n",
              "2              0.026923             0.055000            0.039130\n",
              "3              0.052830             0.046154            0.050000\n",
              "4              0.013699             0.119048            0.052174\n",
              "5              0.040404             0.067485            0.050000\n",
              "6              0.018051             0.060109            0.034783\n",
              "7              0.027682             0.081871            0.047826\n",
              "8              0.032847             0.059140            0.043478\n",
              "9              0.017986             0.082418            0.043478\n",
              "10             0.027718             0.073056            0.045217"
            ]
          },
          "metadata": {
            "tags": []
          }
        }
      ]
    }
  ]
}